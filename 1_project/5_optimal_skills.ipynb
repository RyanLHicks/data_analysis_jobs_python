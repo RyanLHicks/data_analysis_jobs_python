{
 "cells": [
  {
   "cell_type": "code",
   "execution_count": 1,
   "id": "cb31c6a8",
   "metadata": {},
   "outputs": [],
   "source": [
    "## Imported public datasets and libraries for visualation\n",
    "import ast\n",
    "import pandas as pd\n",
    "import seaborn as sns\n",
    "from datasets import load_dataset\n",
    "import matplotlib.pyplot as plt\n",
    "\n",
    "## Data load\n",
    "dataset = load_dataset('lukebarousse/data_jobs')\n",
    "df = dataset['train'].to_pandas()\n",
    "\n",
    "## Raw data cleanup\n",
    "df['job_posted_date'] = pd.to_datetime(df['job_posted_date'])\n",
    "df['job_skills'] = df['job_skills'].apply(lambda x: ast.literal_eval(x) if pd.notna(x) else x)"
   ]
  },
  {
   "cell_type": "code",
   "execution_count": 3,
   "id": "8bbf0d88",
   "metadata": {},
   "outputs": [],
   "source": [
    "df_da_us = df[(df['job_title_short'] =='Data Analyst') & (df['job_country'] == 'United States')].copy()"
   ]
  },
  {
   "cell_type": "code",
   "execution_count": 4,
   "id": "ee55f828",
   "metadata": {},
   "outputs": [
    {
     "data": {
      "text/html": [
       "<div>\n",
       "<style scoped>\n",
       "    .dataframe tbody tr th:only-of-type {\n",
       "        vertical-align: middle;\n",
       "    }\n",
       "\n",
       "    .dataframe tbody tr th {\n",
       "        vertical-align: top;\n",
       "    }\n",
       "\n",
       "    .dataframe thead th {\n",
       "        text-align: right;\n",
       "    }\n",
       "</style>\n",
       "<table border=\"1\" class=\"dataframe\">\n",
       "  <thead>\n",
       "    <tr style=\"text-align: right;\">\n",
       "      <th></th>\n",
       "      <th>salary_year_avg</th>\n",
       "      <th>job_skills</th>\n",
       "    </tr>\n",
       "  </thead>\n",
       "  <tbody>\n",
       "    <tr>\n",
       "      <th>109</th>\n",
       "      <td>89000.0</td>\n",
       "      <td>python</td>\n",
       "    </tr>\n",
       "    <tr>\n",
       "      <th>109</th>\n",
       "      <td>89000.0</td>\n",
       "      <td>r</td>\n",
       "    </tr>\n",
       "    <tr>\n",
       "      <th>109</th>\n",
       "      <td>89000.0</td>\n",
       "      <td>alteryx</td>\n",
       "    </tr>\n",
       "    <tr>\n",
       "      <th>109</th>\n",
       "      <td>89000.0</td>\n",
       "      <td>tableau</td>\n",
       "    </tr>\n",
       "    <tr>\n",
       "      <th>180</th>\n",
       "      <td>90250.0</td>\n",
       "      <td>excel</td>\n",
       "    </tr>\n",
       "  </tbody>\n",
       "</table>\n",
       "</div>"
      ],
      "text/plain": [
       "     salary_year_avg job_skills\n",
       "109          89000.0     python\n",
       "109          89000.0          r\n",
       "109          89000.0    alteryx\n",
       "109          89000.0    tableau\n",
       "180          90250.0      excel"
      ]
     },
     "execution_count": 4,
     "metadata": {},
     "output_type": "execute_result"
    }
   ],
   "source": [
    "df_da_us = df_da_us.dropna(subset=['salary_year_avg'])\n",
    "\n",
    "df_da_us_exploded = df_da_us.explode('job_skills')\n",
    "\n",
    "df_da_us_exploded[['salary_year_avg', 'job_skills']].head(5)"
   ]
  },
  {
   "cell_type": "code",
   "execution_count": 11,
   "id": "b67fafd3",
   "metadata": {},
   "outputs": [
    {
     "data": {
      "text/html": [
       "<div>\n",
       "<style scoped>\n",
       "    .dataframe tbody tr th:only-of-type {\n",
       "        vertical-align: middle;\n",
       "    }\n",
       "\n",
       "    .dataframe tbody tr th {\n",
       "        vertical-align: top;\n",
       "    }\n",
       "\n",
       "    .dataframe thead th {\n",
       "        text-align: right;\n",
       "    }\n",
       "</style>\n",
       "<table border=\"1\" class=\"dataframe\">\n",
       "  <thead>\n",
       "    <tr style=\"text-align: right;\">\n",
       "      <th></th>\n",
       "      <th>skill_count</th>\n",
       "      <th>median_salary</th>\n",
       "      <th>skill_percent</th>\n",
       "    </tr>\n",
       "    <tr>\n",
       "      <th>job_skills</th>\n",
       "      <th></th>\n",
       "      <th></th>\n",
       "      <th></th>\n",
       "    </tr>\n",
       "  </thead>\n",
       "  <tbody>\n",
       "    <tr>\n",
       "      <th>sql</th>\n",
       "      <td>2508</td>\n",
       "      <td>91000.0</td>\n",
       "      <td>57.655172</td>\n",
       "    </tr>\n",
       "    <tr>\n",
       "      <th>excel</th>\n",
       "      <td>1808</td>\n",
       "      <td>84392.0</td>\n",
       "      <td>41.563218</td>\n",
       "    </tr>\n",
       "    <tr>\n",
       "      <th>python</th>\n",
       "      <td>1431</td>\n",
       "      <td>97500.0</td>\n",
       "      <td>32.896552</td>\n",
       "    </tr>\n",
       "    <tr>\n",
       "      <th>tableau</th>\n",
       "      <td>1364</td>\n",
       "      <td>92875.0</td>\n",
       "      <td>31.356322</td>\n",
       "    </tr>\n",
       "    <tr>\n",
       "      <th>sas</th>\n",
       "      <td>926</td>\n",
       "      <td>90000.0</td>\n",
       "      <td>21.287356</td>\n",
       "    </tr>\n",
       "    <tr>\n",
       "      <th>...</th>\n",
       "      <td>...</td>\n",
       "      <td>...</td>\n",
       "      <td>...</td>\n",
       "    </tr>\n",
       "    <tr>\n",
       "      <th>couchbase</th>\n",
       "      <td>1</td>\n",
       "      <td>160515.0</td>\n",
       "      <td>0.022989</td>\n",
       "    </tr>\n",
       "    <tr>\n",
       "      <th>chainer</th>\n",
       "      <td>1</td>\n",
       "      <td>100000.0</td>\n",
       "      <td>0.022989</td>\n",
       "    </tr>\n",
       "    <tr>\n",
       "      <th>chef</th>\n",
       "      <td>1</td>\n",
       "      <td>85000.0</td>\n",
       "      <td>0.022989</td>\n",
       "    </tr>\n",
       "    <tr>\n",
       "      <th>cordova</th>\n",
       "      <td>1</td>\n",
       "      <td>113269.5</td>\n",
       "      <td>0.022989</td>\n",
       "    </tr>\n",
       "    <tr>\n",
       "      <th>node.js</th>\n",
       "      <td>1</td>\n",
       "      <td>83500.0</td>\n",
       "      <td>0.022989</td>\n",
       "    </tr>\n",
       "  </tbody>\n",
       "</table>\n",
       "<p>170 rows × 3 columns</p>\n",
       "</div>"
      ],
      "text/plain": [
       "            skill_count  median_salary  skill_percent\n",
       "job_skills                                           \n",
       "sql                2508        91000.0      57.655172\n",
       "excel              1808        84392.0      41.563218\n",
       "python             1431        97500.0      32.896552\n",
       "tableau            1364        92875.0      31.356322\n",
       "sas                 926        90000.0      21.287356\n",
       "...                 ...            ...            ...\n",
       "couchbase             1       160515.0       0.022989\n",
       "chainer               1       100000.0       0.022989\n",
       "chef                  1        85000.0       0.022989\n",
       "cordova               1       113269.5       0.022989\n",
       "node.js               1        83500.0       0.022989\n",
       "\n",
       "[170 rows x 3 columns]"
      ]
     },
     "execution_count": 11,
     "metadata": {},
     "output_type": "execute_result"
    }
   ],
   "source": [
    "df_da_skills = df_da_us_exploded.groupby('job_skills')['salary_year_avg'].agg(['count', 'median']).sort_values(by='count', ascending=False)\n",
    "\n",
    "df_da_skills = df_da_skills.rename(columns={'count': 'skill_count', 'median': 'median_salary'})\n",
    "\n",
    "da_job_count = len(df_da_us)\n",
    "\n",
    "df_da_skills['skill_percent'] = df_da_skills['skill_count'] /  da_job_count * 100\n",
    "\n",
    "skill_percent = 5\n",
    "\n",
    "df_da_skill_high_demand = df_da_skills[df_da_skills['skill_percent'] > skill_percent]\n",
    "\n",
    "df_da_skills"
   ]
  },
  {
   "cell_type": "code",
   "execution_count": 14,
   "id": "cabe69dd",
   "metadata": {},
   "outputs": [
    {
     "ename": "NameError",
     "evalue": "name 'texts' is not defined",
     "output_type": "error",
     "traceback": [
      "\u001b[31m---------------------------------------------------------------------------\u001b[39m",
      "\u001b[31mNameError\u001b[39m                                 Traceback (most recent call last)",
      "\u001b[36mCell\u001b[39m\u001b[36m \u001b[39m\u001b[32mIn[14]\u001b[39m\u001b[32m, line 4\u001b[39m\n\u001b[32m      1\u001b[39m df_da_skill_high_demand.plot(kind=\u001b[33m'\u001b[39m\u001b[33mscatter\u001b[39m\u001b[33m'\u001b[39m, x=\u001b[33m'\u001b[39m\u001b[33mskill_percent\u001b[39m\u001b[33m'\u001b[39m, y=\u001b[33m'\u001b[39m\u001b[33mmedian_salary\u001b[39m\u001b[33m'\u001b[39m)\n\u001b[32m      3\u001b[39m \u001b[38;5;28;01mfor\u001b[39;00m i, txt \u001b[38;5;129;01min\u001b[39;00m \u001b[38;5;28menumerate\u001b[39m(df_da_skill_high_demand.index):\n\u001b[32m----> \u001b[39m\u001b[32m4\u001b[39m     \u001b[43mtexts\u001b[49m.append(plt.text(df_da_skill_high_demand[\u001b[33m'\u001b[39m\u001b[33mskill_percent\u001b[39m\u001b[33m'\u001b[39m].iloc[i], df_da_skill_high_demand[\u001b[33m'\u001b[39m\u001b[33mmedian_salary\u001b[39m\u001b[33m'\u001b[39m].iloc[i], txt))\n",
      "\u001b[31mNameError\u001b[39m: name 'texts' is not defined"
     ]
    },
    {
     "data": {
      "image/png": "[encoded data removed]",
      "text/plain": [
       "<Figure size 640x480 with 1 Axes>"
      ]
     },
     "metadata": {},
     "output_type": "display_data"
    }
   ],
   "source": [
    "df_da_skill_high_demand.plot(kind='scatter', x='skill_percent', y='median_salary')\n",
    "\n",
    "for i, txt in enumerate(df_da_skill_high_demand.index):\n",
    "    texts.append(plt.text(df_da_skill_high_demand['skill_percent'].iloc[i], df_da_skill_high_demand['median_salary'].iloc[i], txt))\n",
    "\n"
   ]
  },
  {
   "cell_type": "code",
   "execution_count": null,
   "id": "60bec8f6",
   "metadata": {},
   "outputs": [],
   "source": []
  }
 ],
 "metadata": {
  "kernelspec": {
   "display_name": "course",
   "language": "python",
   "name": "python3"
  },
  "language_info": {
   "codemirror_mode": {
    "name": "ipython",
    "version": 3
   },
   "file_extension": ".py",
   "mimetype": "text/x-python",
   "name": "python",
   "nbconvert_exporter": "python",
   "pygments_lexer": "ipython3",
   "version": "3.11.13"
  }
 },
 "nbformat": 4,
 "nbformat_minor": 5
}
